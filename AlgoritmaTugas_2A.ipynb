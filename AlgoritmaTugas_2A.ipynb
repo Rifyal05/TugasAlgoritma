{
  "nbformat": 4,
  "nbformat_minor": 0,
  "metadata": {
    "colab": {
      "private_outputs": true,
      "provenance": [],
      "authorship_tag": "ABX9TyNELd2HpEM2RqgAE57D/6HJ",
      "include_colab_link": true
    },
    "kernelspec": {
      "name": "python3",
      "display_name": "Python 3"
    },
    "language_info": {
      "name": "python"
    }
  },
  "cells": [
    {
      "cell_type": "markdown",
      "metadata": {
        "id": "view-in-github",
        "colab_type": "text"
      },
      "source": [
        "<a href=\"https://colab.research.google.com/github/Rifyal05/TugasAlgoritma/blob/main/AlgoritmaTugas_2A.ipynb\" target=\"_parent\"><img src=\"https://colab.research.google.com/assets/colab-badge.svg\" alt=\"Open In Colab\"/></a>"
      ]
    },
    {
      "cell_type": "code",
      "source": [
        "jadwal = {\"Senin\" : \"Matematika diskrit, Jam = 08:00-09:20, Ruangan= D4.3\" \" dan \" \"Bahasa inggris, Jam = 09:20-10:40, Ruangan = D4.2\",\n",
        "          \"Selasa\": \"Analisis dan Desain Perangkat Lunak, Jam = 08:40-10:00, Ruangan : D4.4 Dan Kewaganegaraan, Jam = 12:00-13:20, Ruangan = D4.3\",\n",
        "          \"Kamis\" : \"Algoritma dan struktur data 2, Jam 12:00-14:00, Ruangan = D4.2 Dan E-commerce, Jam = 14:00-15=20, Ruangan = D4.3\",\n",
        "          \"Jumat\" : \"Aljabar Linear, Jam 08:00-09:20, Ruangan = D4.2 , Pengantar Rekayasa Perangkat Lunak, Jam = 09.20-10.40, Ruangan = D4.6, Dan Interaksi manusia dan komputer, Jam = 13:00-14:20, Ruangan = D4.4\"}\n",
        "\n",
        "input_hari =str(input(\"Masukan Kata kunci dalam bentuk nama hari (Senin/Selasa dst...): \"))\n",
        "\n",
        "input_hari = input_hari.capitalize()\n",
        "jadwal_hari_ini = jadwal.get(input_hari)\n",
        "\n",
        "if jadwal_hari_ini:\n",
        "      print(f\"Kata kunci hari yang di input adalah {input_hari} , Berdasarkan kata kunci yang di input, jadwal kuliah untuk hari ini adalah {jadwal_hari_ini}.\")\n",
        "else:\n",
        "      print(f\"Kata kunci hari yang di input adalah  {input_hari}, berdasarkan kata kunci yang anda masukkan, tidak ada jadwal kuliah hari ini.\")\n"
      ],
      "metadata": {
        "id": "yxwT4u0T-BLg"
      },
      "execution_count": null,
      "outputs": []
    }
  ]
}